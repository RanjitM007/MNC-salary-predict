{
 "cells": [
  {
   "cell_type": "code",
   "execution_count": 1,
   "metadata": {},
   "outputs": [],
   "source": [
    "import pandas as pd\n",
    "import numpy as np\n",
    "import matplotlib.pyplot as plt\n",
    "import seaborn as sns\n",
    "import warnings\n",
    "warnings.filterwarnings('ignore')"
   ]
  },
  {
   "cell_type": "code",
   "execution_count": 2,
   "metadata": {},
   "outputs": [
    {
     "data": {
      "text/html": [
       "<div>\n",
       "<style scoped>\n",
       "    .dataframe tbody tr th:only-of-type {\n",
       "        vertical-align: middle;\n",
       "    }\n",
       "\n",
       "    .dataframe tbody tr th {\n",
       "        vertical-align: top;\n",
       "    }\n",
       "\n",
       "    .dataframe thead th {\n",
       "        text-align: right;\n",
       "    }\n",
       "</style>\n",
       "<table border=\"1\" class=\"dataframe\">\n",
       "  <thead>\n",
       "    <tr style=\"text-align: right;\">\n",
       "      <th></th>\n",
       "      <th>Name</th>\n",
       "      <th>Team</th>\n",
       "      <th>Number</th>\n",
       "      <th>Position</th>\n",
       "      <th>Age</th>\n",
       "      <th>DOJ</th>\n",
       "      <th>Weight</th>\n",
       "      <th>College</th>\n",
       "      <th>Salary</th>\n",
       "    </tr>\n",
       "  </thead>\n",
       "  <tbody>\n",
       "    <tr>\n",
       "      <th>0</th>\n",
       "      <td>Avery Bradley</td>\n",
       "      <td>Boston Celtics</td>\n",
       "      <td>0</td>\n",
       "      <td>PG</td>\n",
       "      <td>25</td>\n",
       "      <td>06-Feb</td>\n",
       "      <td>180</td>\n",
       "      <td>Texas</td>\n",
       "      <td>7730337.0</td>\n",
       "    </tr>\n",
       "    <tr>\n",
       "      <th>1</th>\n",
       "      <td>Jae Crowder</td>\n",
       "      <td>Boston Celtics</td>\n",
       "      <td>99</td>\n",
       "      <td>SF</td>\n",
       "      <td>25</td>\n",
       "      <td>06-Jun</td>\n",
       "      <td>235</td>\n",
       "      <td>Marquette</td>\n",
       "      <td>6796117.0</td>\n",
       "    </tr>\n",
       "    <tr>\n",
       "      <th>2</th>\n",
       "      <td>John Holland</td>\n",
       "      <td>Boston Celtics</td>\n",
       "      <td>30</td>\n",
       "      <td>SG</td>\n",
       "      <td>27</td>\n",
       "      <td>06-May</td>\n",
       "      <td>205</td>\n",
       "      <td>Boston University</td>\n",
       "      <td>NaN</td>\n",
       "    </tr>\n",
       "    <tr>\n",
       "      <th>3</th>\n",
       "      <td>R.J. Hunter</td>\n",
       "      <td>Boston Celtics</td>\n",
       "      <td>28</td>\n",
       "      <td>SG</td>\n",
       "      <td>22</td>\n",
       "      <td>06-May</td>\n",
       "      <td>185</td>\n",
       "      <td>Georgia State</td>\n",
       "      <td>1148640.0</td>\n",
       "    </tr>\n",
       "    <tr>\n",
       "      <th>4</th>\n",
       "      <td>Jonas Jerebko</td>\n",
       "      <td>Boston Celtics</td>\n",
       "      <td>8</td>\n",
       "      <td>PF</td>\n",
       "      <td>29</td>\n",
       "      <td>06-Oct</td>\n",
       "      <td>231</td>\n",
       "      <td>NaN</td>\n",
       "      <td>5000000.0</td>\n",
       "    </tr>\n",
       "  </tbody>\n",
       "</table>\n",
       "</div>"
      ],
      "text/plain": [
       "            Name            Team  Number Position  Age     DOJ  Weight  \\\n",
       "0  Avery Bradley  Boston Celtics       0       PG   25  06-Feb     180   \n",
       "1    Jae Crowder  Boston Celtics      99       SF   25  06-Jun     235   \n",
       "2   John Holland  Boston Celtics      30       SG   27  06-May     205   \n",
       "3    R.J. Hunter  Boston Celtics      28       SG   22  06-May     185   \n",
       "4  Jonas Jerebko  Boston Celtics       8       PF   29  06-Oct     231   \n",
       "\n",
       "             College     Salary  \n",
       "0              Texas  7730337.0  \n",
       "1          Marquette  6796117.0  \n",
       "2  Boston University        NaN  \n",
       "3      Georgia State  1148640.0  \n",
       "4                NaN  5000000.0  "
      ]
     },
     "execution_count": 2,
     "metadata": {},
     "output_type": "execute_result"
    }
   ],
   "source": [
    "df=pd.read_csv('MNC_Salaries.csv')\n",
    "df.head()\n"
   ]
  },
  {
   "cell_type": "code",
   "execution_count": 3,
   "metadata": {},
   "outputs": [
    {
     "data": {
      "text/plain": [
       "(457, 9)"
      ]
     },
     "execution_count": 3,
     "metadata": {},
     "output_type": "execute_result"
    }
   ],
   "source": [
    "df.shape"
   ]
  },
  {
   "cell_type": "code",
   "execution_count": 4,
   "metadata": {
    "scrolled": true
   },
   "outputs": [
    {
     "name": "stdout",
     "output_type": "stream",
     "text": [
      "<class 'pandas.core.frame.DataFrame'>\n",
      "RangeIndex: 457 entries, 0 to 456\n",
      "Data columns (total 9 columns):\n",
      " #   Column    Non-Null Count  Dtype  \n",
      "---  ------    --------------  -----  \n",
      " 0   Name      457 non-null    object \n",
      " 1   Team      457 non-null    object \n",
      " 2   Number    457 non-null    int64  \n",
      " 3   Position  457 non-null    object \n",
      " 4   Age       457 non-null    int64  \n",
      " 5   DOJ       457 non-null    object \n",
      " 6   Weight    457 non-null    int64  \n",
      " 7   College   373 non-null    object \n",
      " 8   Salary    446 non-null    float64\n",
      "dtypes: float64(1), int64(3), object(5)\n",
      "memory usage: 32.3+ KB\n"
     ]
    }
   ],
   "source": [
    "df.info()"
   ]
  },
  {
   "cell_type": "code",
   "execution_count": 5,
   "metadata": {},
   "outputs": [
    {
     "data": {
      "text/html": [
       "<div>\n",
       "<style scoped>\n",
       "    .dataframe tbody tr th:only-of-type {\n",
       "        vertical-align: middle;\n",
       "    }\n",
       "\n",
       "    .dataframe tbody tr th {\n",
       "        vertical-align: top;\n",
       "    }\n",
       "\n",
       "    .dataframe thead th {\n",
       "        text-align: right;\n",
       "    }\n",
       "</style>\n",
       "<table border=\"1\" class=\"dataframe\">\n",
       "  <thead>\n",
       "    <tr style=\"text-align: right;\">\n",
       "      <th></th>\n",
       "      <th>Number</th>\n",
       "      <th>Age</th>\n",
       "      <th>Weight</th>\n",
       "      <th>Salary</th>\n",
       "    </tr>\n",
       "  </thead>\n",
       "  <tbody>\n",
       "    <tr>\n",
       "      <th>count</th>\n",
       "      <td>457.000000</td>\n",
       "      <td>457.000000</td>\n",
       "      <td>457.000000</td>\n",
       "      <td>4.460000e+02</td>\n",
       "    </tr>\n",
       "    <tr>\n",
       "      <th>mean</th>\n",
       "      <td>17.678337</td>\n",
       "      <td>26.938731</td>\n",
       "      <td>221.522976</td>\n",
       "      <td>4.842684e+06</td>\n",
       "    </tr>\n",
       "    <tr>\n",
       "      <th>std</th>\n",
       "      <td>15.966090</td>\n",
       "      <td>4.404016</td>\n",
       "      <td>26.368343</td>\n",
       "      <td>5.229238e+06</td>\n",
       "    </tr>\n",
       "    <tr>\n",
       "      <th>min</th>\n",
       "      <td>0.000000</td>\n",
       "      <td>19.000000</td>\n",
       "      <td>161.000000</td>\n",
       "      <td>3.088800e+04</td>\n",
       "    </tr>\n",
       "    <tr>\n",
       "      <th>25%</th>\n",
       "      <td>5.000000</td>\n",
       "      <td>24.000000</td>\n",
       "      <td>200.000000</td>\n",
       "      <td>1.044792e+06</td>\n",
       "    </tr>\n",
       "    <tr>\n",
       "      <th>50%</th>\n",
       "      <td>13.000000</td>\n",
       "      <td>26.000000</td>\n",
       "      <td>220.000000</td>\n",
       "      <td>2.839073e+06</td>\n",
       "    </tr>\n",
       "    <tr>\n",
       "      <th>75%</th>\n",
       "      <td>25.000000</td>\n",
       "      <td>30.000000</td>\n",
       "      <td>240.000000</td>\n",
       "      <td>6.500000e+06</td>\n",
       "    </tr>\n",
       "    <tr>\n",
       "      <th>max</th>\n",
       "      <td>99.000000</td>\n",
       "      <td>40.000000</td>\n",
       "      <td>307.000000</td>\n",
       "      <td>2.500000e+07</td>\n",
       "    </tr>\n",
       "  </tbody>\n",
       "</table>\n",
       "</div>"
      ],
      "text/plain": [
       "           Number         Age      Weight        Salary\n",
       "count  457.000000  457.000000  457.000000  4.460000e+02\n",
       "mean    17.678337   26.938731  221.522976  4.842684e+06\n",
       "std     15.966090    4.404016   26.368343  5.229238e+06\n",
       "min      0.000000   19.000000  161.000000  3.088800e+04\n",
       "25%      5.000000   24.000000  200.000000  1.044792e+06\n",
       "50%     13.000000   26.000000  220.000000  2.839073e+06\n",
       "75%     25.000000   30.000000  240.000000  6.500000e+06\n",
       "max     99.000000   40.000000  307.000000  2.500000e+07"
      ]
     },
     "execution_count": 5,
     "metadata": {},
     "output_type": "execute_result"
    }
   ],
   "source": [
    "df.describe()"
   ]
  },
  {
   "cell_type": "code",
   "execution_count": 6,
   "metadata": {
    "scrolled": true
   },
   "outputs": [
    {
     "data": {
      "text/plain": [
       "Name         0\n",
       "Team         0\n",
       "Number       0\n",
       "Position     0\n",
       "Age          0\n",
       "DOJ          0\n",
       "Weight       0\n",
       "College     84\n",
       "Salary      11\n",
       "dtype: int64"
      ]
     },
     "execution_count": 6,
     "metadata": {},
     "output_type": "execute_result"
    }
   ],
   "source": [
    "df.isnull().sum()"
   ]
  },
  {
   "cell_type": "code",
   "execution_count": 7,
   "metadata": {},
   "outputs": [
    {
     "data": {
      "text/plain": [
       "<matplotlib.axes._subplots.AxesSubplot at 0x1b01c1a56a0>"
      ]
     },
     "execution_count": 7,
     "metadata": {},
     "output_type": "execute_result"
    },
    {
     "data": {
      "image/png": "[encoded data removed]",
      "text/plain": [
       "<Figure size 432x288 with 2 Axes>"
      ]
     },
     "metadata": {
      "needs_background": "light"
     },
     "output_type": "display_data"
    }
   ],
   "source": [
    "sns.heatmap(df.isnull())"
   ]
  },
  {
   "cell_type": "code",
   "execution_count": 8,
   "metadata": {},
   "outputs": [],
   "source": [
    "\n",
    "#Now lets impute the null values in columns salary and college as found above\n",
    "\n",
    "col_to_impute=[\"Salary\",\"College\"]\n",
    "for col in col_to_impute:\n",
    "    if df[col].dtype!=\"object\":\n",
    "        df[col].fillna(df[col].mean(),inplace=True)\n",
    "    else:\n",
    "        df[col].fillna(df[col].mode()[0],inplace=True)"
   ]
  },
  {
   "cell_type": "code",
   "execution_count": 9,
   "metadata": {},
   "outputs": [
    {
     "data": {
      "text/plain": [
       "Index(['Name', 'Team', 'Number', 'Position', 'Age', 'DOJ', 'Weight', 'College',\n",
       "       'Salary'],\n",
       "      dtype='object')"
      ]
     },
     "execution_count": 9,
     "metadata": {},
     "output_type": "execute_result"
    }
   ],
   "source": [
    "df.columns"
   ]
  },
  {
   "cell_type": "code",
   "execution_count": 10,
   "metadata": {},
   "outputs": [
    {
     "data": {
      "text/plain": [
       "New Orleans Pelicans      19\n",
       "Memphis Grizzlies         18\n",
       "Milwaukee Bucks           16\n",
       "New York Knicks           16\n",
       "Sacramento Kings          15\n",
       "Miami Heat                15\n",
       "Chicago Bulls             15\n",
       "Oklahoma City Thunder     15\n",
       "Houston Rockets           15\n",
       "San Antonio Spurs         15\n",
       "Denver Nuggets            15\n",
       "Utah Jazz                 15\n",
       "Los Angeles Clippers      15\n",
       "Phoenix Suns              15\n",
       "Charlotte Hornets         15\n",
       "Boston Celtics            15\n",
       "Toronto Raptors           15\n",
       "Atlanta Hawks             15\n",
       "Portland Trail Blazers    15\n",
       "Dallas Mavericks          15\n",
       "Golden State Warriors     15\n",
       "Detroit Pistons           15\n",
       "Los Angeles Lakers        15\n",
       "Washington Wizards        15\n",
       "Brooklyn Nets             15\n",
       "Philadelphia 76ers        15\n",
       "Cleveland Cavaliers       15\n",
       "Indiana Pacers            15\n",
       "Minnesota Timberwolves    14\n",
       "Orlando Magic             14\n",
       "Name: Team, dtype: int64"
      ]
     },
     "execution_count": 10,
     "metadata": {},
     "output_type": "execute_result"
    }
   ],
   "source": [
    "df['Team'].value_counts()\n",
    "\n"
   ]
  },
  {
   "cell_type": "code",
   "execution_count": 11,
   "metadata": {},
   "outputs": [
    {
     "data": {
      "text/plain": [
       "5     23\n",
       "3     21\n",
       "0     20\n",
       "1     20\n",
       "8     19\n",
       "4     17\n",
       "11    17\n",
       "12    17\n",
       "2     16\n",
       "9     16\n",
       "21    15\n",
       "7     14\n",
       "15    14\n",
       "23    13\n",
       "20    12\n",
       "13    12\n",
       "6     12\n",
       "33    11\n",
       "30    11\n",
       "22    11\n",
       "10    10\n",
       "14    10\n",
       "17    10\n",
       "25    10\n",
       "34     9\n",
       "44     8\n",
       "24     8\n",
       "31     8\n",
       "35     7\n",
       "41     6\n",
       "42     6\n",
       "32     5\n",
       "50     5\n",
       "40     5\n",
       "19     4\n",
       "18     4\n",
       "55     4\n",
       "27     3\n",
       "43     3\n",
       "28     3\n",
       "26     2\n",
       "16     2\n",
       "36     2\n",
       "77     2\n",
       "90     2\n",
       "92     1\n",
       "37     1\n",
       "39     1\n",
       "45     1\n",
       "52     1\n",
       "54     1\n",
       "88     1\n",
       "99     1\n",
       "Name: Number, dtype: int64"
      ]
     },
     "execution_count": 11,
     "metadata": {},
     "output_type": "execute_result"
    }
   ],
   "source": [
    "df['Number'].value_counts()"
   ]
  },
  {
   "cell_type": "code",
   "execution_count": 12,
   "metadata": {},
   "outputs": [
    {
     "data": {
      "text/plain": [
       "SG    102\n",
       "PF    100\n",
       "PG     92\n",
       "SF     85\n",
       "C      78\n",
       "Name: Position, dtype: int64"
      ]
     },
     "execution_count": 12,
     "metadata": {},
     "output_type": "execute_result"
    }
   ],
   "source": [
    "df['Position'].value_counts()"
   ]
  },
  {
   "cell_type": "code",
   "execution_count": 13,
   "metadata": {},
   "outputs": [
    {
     "data": {
      "text/plain": [
       "24    47\n",
       "25    45\n",
       "23    41\n",
       "27    41\n",
       "26    36\n",
       "30    31\n",
       "28    31\n",
       "29    28\n",
       "22    26\n",
       "31    22\n",
       "21    19\n",
       "20    19\n",
       "33    14\n",
       "32    13\n",
       "34    10\n",
       "36    10\n",
       "35     9\n",
       "37     4\n",
       "38     4\n",
       "40     3\n",
       "39     2\n",
       "19     2\n",
       "Name: Age, dtype: int64"
      ]
     },
     "execution_count": 13,
     "metadata": {},
     "output_type": "execute_result"
    }
   ],
   "source": [
    "df['Age'].value_counts()"
   ]
  },
  {
   "cell_type": "code",
   "execution_count": 14,
   "metadata": {},
   "outputs": [
    {
     "data": {
      "text/plain": [
       "06-Sep    59\n",
       "06-Oct    47\n",
       "06-Jul    45\n",
       "06-Aug    43\n",
       "06-Jun    42\n",
       "06-Nov    40\n",
       "06-Mar    33\n",
       "06-May    32\n",
       "06-Apr    29\n",
       "7-0       27\n",
       "06-Jan    16\n",
       "06-Feb    16\n",
       "6-0       10\n",
       "07-Jan     7\n",
       "07-Mar     4\n",
       "05-Nov     3\n",
       "07-Feb     3\n",
       "05-Sep     1\n",
       "Name: DOJ, dtype: int64"
      ]
     },
     "execution_count": 14,
     "metadata": {},
     "output_type": "execute_result"
    }
   ],
   "source": [
    "df['DOJ'].value_counts()"
   ]
  },
  {
   "cell_type": "code",
   "execution_count": 15,
   "metadata": {},
   "outputs": [
    {
     "data": {
      "text/plain": [
       "220    29\n",
       "240    28\n",
       "250    26\n",
       "200    25\n",
       "205    22\n",
       "       ..\n",
       "290     1\n",
       "221     1\n",
       "219     1\n",
       "217     1\n",
       "161     1\n",
       "Name: Weight, Length: 87, dtype: int64"
      ]
     },
     "execution_count": 15,
     "metadata": {},
     "output_type": "execute_result"
    }
   ],
   "source": [
    "df['Weight'].value_counts()"
   ]
  },
  {
   "cell_type": "code",
   "execution_count": 16,
   "metadata": {},
   "outputs": [
    {
     "data": {
      "text/plain": [
       "Kentucky            106\n",
       "Duke                 20\n",
       "Kansas               18\n",
       "North Carolina       16\n",
       "UCLA                 15\n",
       "                   ... \n",
       "Baylor                1\n",
       "Tennessee State       1\n",
       "Belmont               1\n",
       "Charleston            1\n",
       "Central Michigan      1\n",
       "Name: College, Length: 118, dtype: int64"
      ]
     },
     "execution_count": 16,
     "metadata": {},
     "output_type": "execute_result"
    }
   ],
   "source": [
    "df['College'].value_counts()"
   ]
  },
  {
   "cell_type": "code",
   "execution_count": 17,
   "metadata": {},
   "outputs": [
    {
     "data": {
      "text/plain": [
       "count          457\n",
       "unique         118\n",
       "top       Kentucky\n",
       "freq           106\n",
       "Name: College, dtype: object"
      ]
     },
     "execution_count": 17,
     "metadata": {},
     "output_type": "execute_result"
    }
   ],
   "source": [
    "df.College.describe()"
   ]
  },
  {
   "cell_type": "code",
   "execution_count": 18,
   "metadata": {},
   "outputs": [
    {
     "data": {
      "text/plain": [
       "<matplotlib.axes._subplots.AxesSubplot at 0x1b01c98ec70>"
      ]
     },
     "execution_count": 18,
     "metadata": {},
     "output_type": "execute_result"
    },
    {
     "data": {
      "image/png": "[encoded data removed]",
      "text/plain": [
       "<Figure size 432x288 with 1 Axes>"
      ]
     },
     "metadata": {
      "needs_background": "light"
     },
     "output_type": "display_data"
    }
   ],
   "source": [
    "sns.lineplot(x='Team',y='Salary',data=df)"
   ]
  },
  {
   "cell_type": "code",
   "execution_count": 19,
   "metadata": {},
   "outputs": [
    {
     "data": {
      "text/plain": [
       "<matplotlib.axes._subplots.AxesSubplot at 0x1b01c998f70>"
      ]
     },
     "execution_count": 19,
     "metadata": {},
     "output_type": "execute_result"
    },
    {
     "data": {
      "image/png": "[encoded data removed]",
      "text/plain": [
       "<Figure size 1296x432 with 1 Axes>"
      ]
     },
     "metadata": {
      "needs_background": "light"
     },
     "output_type": "display_data"
    }
   ],
   "source": [
    "plt.figure(figsize=(18,6))\n",
    "sns.barplot(x='Number',y='Salary',data=df)"
   ]
  },
  {
   "cell_type": "code",
   "execution_count": 20,
   "metadata": {},
   "outputs": [
    {
     "data": {
      "text/plain": [
       "<matplotlib.axes._subplots.AxesSubplot at 0x1b01c98ec10>"
      ]
     },
     "execution_count": 20,
     "metadata": {},
     "output_type": "execute_result"
    },
    {
     "data": {
      "image/png": "[encoded data removed]",
      "text/plain": [
       "<Figure size 432x288 with 1 Axes>"
      ]
     },
     "metadata": {
      "needs_background": "light"
     },
     "output_type": "display_data"
    }
   ],
   "source": [
    "sns.barplot(x='Position',y='Salary',data=df)"
   ]
  },
  {
   "cell_type": "code",
   "execution_count": 21,
   "metadata": {},
   "outputs": [
    {
     "data": {
      "text/plain": [
       "<matplotlib.axes._subplots.AxesSubplot at 0x1b01cb026a0>"
      ]
     },
     "execution_count": 21,
     "metadata": {},
     "output_type": "execute_result"
    },
    {
     "data": {
      "image/png": "[encoded data removed]",
      "text/plain": [
       "<Figure size 1296x432 with 1 Axes>"
      ]
     },
     "metadata": {
      "needs_background": "light"
     },
     "output_type": "display_data"
    }
   ],
   "source": [
    "plt.figure(figsize=(18,6))\n",
    "sns.barplot(x='Age',y='Salary',data=df)"
   ]
  },
  {
   "cell_type": "code",
   "execution_count": 22,
   "metadata": {},
   "outputs": [
    {
     "data": {
      "text/plain": [
       "<matplotlib.axes._subplots.AxesSubplot at 0x1b01d189f40>"
      ]
     },
     "execution_count": 22,
     "metadata": {},
     "output_type": "execute_result"
    },
    {
     "data": {
      "image/png": "[encoded data removed]",
      "text/plain": [
       "<Figure size 1296x432 with 1 Axes>"
      ]
     },
     "metadata": {
      "needs_background": "light"
     },
     "output_type": "display_data"
    }
   ],
   "source": [
    "plt.figure(figsize=(18,6))\n",
    "\n",
    "sns.barplot(x='DOJ',y='Salary',data=df)"
   ]
  },
  {
   "cell_type": "code",
   "execution_count": 23,
   "metadata": {},
   "outputs": [
    {
     "name": "stdout",
     "output_type": "stream",
     "text": [
      "\n"
     ]
    },
    {
     "data": {
      "text/plain": [
       "[]"
      ]
     },
     "execution_count": 23,
     "metadata": {},
     "output_type": "execute_result"
    }
   ],
   "source": [
    "active_imports()"
   ]
  },
  {
   "cell_type": "code",
   "execution_count": 24,
   "metadata": {},
   "outputs": [
    {
     "data": {
      "text/plain": [
       "<matplotlib.axes._subplots.AxesSubplot at 0x1b01c144940>"
      ]
     },
     "execution_count": 24,
     "metadata": {},
     "output_type": "execute_result"
    },
    {
     "data": {
      "image/png": "[encoded data removed]",
      "text/plain": [
       "<Figure size 1800x576 with 1 Axes>"
      ]
     },
     "metadata": {
      "needs_background": "light"
     },
     "output_type": "display_data"
    }
   ],
   "source": [
    "plt.figure(figsize=(25,8))\n",
    "sns.barplot(x='Weight',y='Salary',data=df)\n"
   ]
  },
  {
   "cell_type": "code",
   "execution_count": 25,
   "metadata": {},
   "outputs": [
    {
     "data": {
      "text/plain": [
       "<matplotlib.axes._subplots.AxesSubplot at 0x1b01d1931c0>"
      ]
     },
     "execution_count": 25,
     "metadata": {},
     "output_type": "execute_result"
    },
    {
     "data": {
      "image/png": "[encoded data removed]",
      "text/plain": [
       "<Figure size 1800x576 with 1 Axes>"
      ]
     },
     "metadata": {
      "needs_background": "light"
     },
     "output_type": "display_data"
    }
   ],
   "source": [
    "plt.figure(figsize=(25,8))\n",
    "sns.barplot(x='College',y='Salary',data=df)"
   ]
  },
  {
   "cell_type": "code",
   "execution_count": 26,
   "metadata": {},
   "outputs": [
    {
     "data": {
      "text/html": [
       "<div>\n",
       "<style scoped>\n",
       "    .dataframe tbody tr th:only-of-type {\n",
       "        vertical-align: middle;\n",
       "    }\n",
       "\n",
       "    .dataframe tbody tr th {\n",
       "        vertical-align: top;\n",
       "    }\n",
       "\n",
       "    .dataframe thead th {\n",
       "        text-align: right;\n",
       "    }\n",
       "</style>\n",
       "<table border=\"1\" class=\"dataframe\">\n",
       "  <thead>\n",
       "    <tr style=\"text-align: right;\">\n",
       "      <th></th>\n",
       "      <th>Name</th>\n",
       "      <th>Team</th>\n",
       "      <th>Number</th>\n",
       "      <th>Position</th>\n",
       "      <th>Age</th>\n",
       "      <th>DOJ</th>\n",
       "      <th>Weight</th>\n",
       "      <th>College</th>\n",
       "      <th>Salary</th>\n",
       "    </tr>\n",
       "  </thead>\n",
       "  <tbody>\n",
       "    <tr>\n",
       "      <th>0</th>\n",
       "      <td>Avery Bradley</td>\n",
       "      <td>Boston Celtics</td>\n",
       "      <td>0</td>\n",
       "      <td>PG</td>\n",
       "      <td>25</td>\n",
       "      <td>06-Feb</td>\n",
       "      <td>180</td>\n",
       "      <td>Texas</td>\n",
       "      <td>7.730337e+06</td>\n",
       "    </tr>\n",
       "    <tr>\n",
       "      <th>1</th>\n",
       "      <td>Jae Crowder</td>\n",
       "      <td>Boston Celtics</td>\n",
       "      <td>99</td>\n",
       "      <td>SF</td>\n",
       "      <td>25</td>\n",
       "      <td>06-Jun</td>\n",
       "      <td>235</td>\n",
       "      <td>Marquette</td>\n",
       "      <td>6.796117e+06</td>\n",
       "    </tr>\n",
       "    <tr>\n",
       "      <th>2</th>\n",
       "      <td>John Holland</td>\n",
       "      <td>Boston Celtics</td>\n",
       "      <td>30</td>\n",
       "      <td>SG</td>\n",
       "      <td>27</td>\n",
       "      <td>06-May</td>\n",
       "      <td>205</td>\n",
       "      <td>Boston University</td>\n",
       "      <td>4.842684e+06</td>\n",
       "    </tr>\n",
       "    <tr>\n",
       "      <th>3</th>\n",
       "      <td>R.J. Hunter</td>\n",
       "      <td>Boston Celtics</td>\n",
       "      <td>28</td>\n",
       "      <td>SG</td>\n",
       "      <td>22</td>\n",
       "      <td>06-May</td>\n",
       "      <td>185</td>\n",
       "      <td>Georgia State</td>\n",
       "      <td>1.148640e+06</td>\n",
       "    </tr>\n",
       "    <tr>\n",
       "      <th>4</th>\n",
       "      <td>Jonas Jerebko</td>\n",
       "      <td>Boston Celtics</td>\n",
       "      <td>8</td>\n",
       "      <td>PF</td>\n",
       "      <td>29</td>\n",
       "      <td>06-Oct</td>\n",
       "      <td>231</td>\n",
       "      <td>Kentucky</td>\n",
       "      <td>5.000000e+06</td>\n",
       "    </tr>\n",
       "    <tr>\n",
       "      <th>...</th>\n",
       "      <td>...</td>\n",
       "      <td>...</td>\n",
       "      <td>...</td>\n",
       "      <td>...</td>\n",
       "      <td>...</td>\n",
       "      <td>...</td>\n",
       "      <td>...</td>\n",
       "      <td>...</td>\n",
       "      <td>...</td>\n",
       "    </tr>\n",
       "    <tr>\n",
       "      <th>452</th>\n",
       "      <td>Trey Lyles</td>\n",
       "      <td>Utah Jazz</td>\n",
       "      <td>41</td>\n",
       "      <td>PF</td>\n",
       "      <td>20</td>\n",
       "      <td>06-Oct</td>\n",
       "      <td>234</td>\n",
       "      <td>Kentucky</td>\n",
       "      <td>2.239800e+06</td>\n",
       "    </tr>\n",
       "    <tr>\n",
       "      <th>453</th>\n",
       "      <td>Shelvin Mack</td>\n",
       "      <td>Utah Jazz</td>\n",
       "      <td>8</td>\n",
       "      <td>PG</td>\n",
       "      <td>26</td>\n",
       "      <td>06-Mar</td>\n",
       "      <td>203</td>\n",
       "      <td>Butler</td>\n",
       "      <td>2.433333e+06</td>\n",
       "    </tr>\n",
       "    <tr>\n",
       "      <th>454</th>\n",
       "      <td>Raul Neto</td>\n",
       "      <td>Utah Jazz</td>\n",
       "      <td>25</td>\n",
       "      <td>PG</td>\n",
       "      <td>24</td>\n",
       "      <td>06-Jan</td>\n",
       "      <td>179</td>\n",
       "      <td>Kentucky</td>\n",
       "      <td>9.000000e+05</td>\n",
       "    </tr>\n",
       "    <tr>\n",
       "      <th>455</th>\n",
       "      <td>Tibor Pleiss</td>\n",
       "      <td>Utah Jazz</td>\n",
       "      <td>21</td>\n",
       "      <td>C</td>\n",
       "      <td>26</td>\n",
       "      <td>07-Mar</td>\n",
       "      <td>256</td>\n",
       "      <td>Kentucky</td>\n",
       "      <td>2.900000e+06</td>\n",
       "    </tr>\n",
       "    <tr>\n",
       "      <th>456</th>\n",
       "      <td>Jeff Withey</td>\n",
       "      <td>Utah Jazz</td>\n",
       "      <td>24</td>\n",
       "      <td>C</td>\n",
       "      <td>26</td>\n",
       "      <td>7-0</td>\n",
       "      <td>231</td>\n",
       "      <td>Kansas</td>\n",
       "      <td>9.472760e+05</td>\n",
       "    </tr>\n",
       "  </tbody>\n",
       "</table>\n",
       "<p>457 rows × 9 columns</p>\n",
       "</div>"
      ],
      "text/plain": [
       "              Name            Team  Number Position  Age     DOJ  Weight  \\\n",
       "0    Avery Bradley  Boston Celtics       0       PG   25  06-Feb     180   \n",
       "1      Jae Crowder  Boston Celtics      99       SF   25  06-Jun     235   \n",
       "2     John Holland  Boston Celtics      30       SG   27  06-May     205   \n",
       "3      R.J. Hunter  Boston Celtics      28       SG   22  06-May     185   \n",
       "4    Jonas Jerebko  Boston Celtics       8       PF   29  06-Oct     231   \n",
       "..             ...             ...     ...      ...  ...     ...     ...   \n",
       "452     Trey Lyles       Utah Jazz      41       PF   20  06-Oct     234   \n",
       "453   Shelvin Mack       Utah Jazz       8       PG   26  06-Mar     203   \n",
       "454      Raul Neto       Utah Jazz      25       PG   24  06-Jan     179   \n",
       "455   Tibor Pleiss       Utah Jazz      21        C   26  07-Mar     256   \n",
       "456    Jeff Withey       Utah Jazz      24        C   26     7-0     231   \n",
       "\n",
       "               College        Salary  \n",
       "0                Texas  7.730337e+06  \n",
       "1            Marquette  6.796117e+06  \n",
       "2    Boston University  4.842684e+06  \n",
       "3        Georgia State  1.148640e+06  \n",
       "4             Kentucky  5.000000e+06  \n",
       "..                 ...           ...  \n",
       "452           Kentucky  2.239800e+06  \n",
       "453             Butler  2.433333e+06  \n",
       "454           Kentucky  9.000000e+05  \n",
       "455           Kentucky  2.900000e+06  \n",
       "456             Kansas  9.472760e+05  \n",
       "\n",
       "[457 rows x 9 columns]"
      ]
     },
     "execution_count": 26,
     "metadata": {},
     "output_type": "execute_result"
    }
   ],
   "source": [
    "df"
   ]
  },
  {
   "cell_type": "code",
   "execution_count": 27,
   "metadata": {},
   "outputs": [],
   "source": [
    "df.drop('Name',axis=1,inplace=True)"
   ]
  },
  {
   "cell_type": "code",
   "execution_count": 28,
   "metadata": {
    "scrolled": false
   },
   "outputs": [
    {
     "data": {
      "text/plain": [
       "<matplotlib.axes._subplots.AxesSubplot at 0x1b01e4fb9d0>"
      ]
     },
     "execution_count": 28,
     "metadata": {},
     "output_type": "execute_result"
    },
    {
     "data": {
      "image/png": "[encoded data removed]",
      "text/plain": [
       "<Figure size 432x288 with 2 Axes>"
      ]
     },
     "metadata": {
      "needs_background": "light"
     },
     "output_type": "display_data"
    }
   ],
   "source": [
    "corr=df.corr()\n",
    "sns.heatmap(corr,annot=True)"
   ]
  },
  {
   "cell_type": "code",
   "execution_count": 29,
   "metadata": {},
   "outputs": [
    {
     "data": {
      "text/plain": [
       "<seaborn.axisgrid.PairGrid at 0x1b01e82cd00>"
      ]
     },
     "execution_count": 29,
     "metadata": {},
     "output_type": "execute_result"
    },
    {
     "data": {
      "image/png": "[encoded data removed]",
      "text/plain": [
       "<Figure size 720x720 with 20 Axes>"
      ]
     },
     "metadata": {
      "needs_background": "light"
     },
     "output_type": "display_data"
    }
   ],
   "source": [
    "sns.pairplot(df)"
   ]
  },
  {
   "cell_type": "code",
   "execution_count": 30,
   "metadata": {},
   "outputs": [],
   "source": [
    "obj_col=['Team','Position','DOJ','College']\n",
    "from sklearn.preprocessing import LabelEncoder\n",
    "le=LabelEncoder()\n",
    "for i in obj_col:\n",
    "    df[i]=le.fit_transform(df[i])\n"
   ]
  },
  {
   "cell_type": "code",
   "execution_count": 31,
   "metadata": {
    "scrolled": true
   },
   "outputs": [
    {
     "data": {
      "text/plain": [
       "Team          int32\n",
       "Number        int64\n",
       "Position      int32\n",
       "Age           int64\n",
       "DOJ           int32\n",
       "Weight        int64\n",
       "College       int32\n",
       "Salary      float64\n",
       "dtype: object"
      ]
     },
     "execution_count": 31,
     "metadata": {},
     "output_type": "execute_result"
    }
   ],
   "source": [
    "df.dtypes"
   ]
  },
  {
   "cell_type": "code",
   "execution_count": 32,
   "metadata": {},
   "outputs": [],
   "source": [
    "v=df.columns\n",
    "df[v]=df[v].astype(np.float64)"
   ]
  },
  {
   "cell_type": "code",
   "execution_count": 33,
   "metadata": {},
   "outputs": [
    {
     "data": {
      "text/plain": [
       "<matplotlib.axes._subplots.AxesSubplot at 0x1b01fb10a30>"
      ]
     },
     "execution_count": 33,
     "metadata": {},
     "output_type": "execute_result"
    },
    {
     "data": {
      "image/png": "[encoded data removed]",
      "text/plain": [
       "<Figure size 432x288 with 1 Axes>"
      ]
     },
     "metadata": {
      "needs_background": "light"
     },
     "output_type": "display_data"
    }
   ],
   "source": [
    "df.boxplot()"
   ]
  },
  {
   "cell_type": "code",
   "execution_count": 34,
   "metadata": {},
   "outputs": [],
   "source": [
    "collist=df.columns.values\n",
    "ncol=12\n",
    "nrows=10"
   ]
  },
  {
   "cell_type": "code",
   "execution_count": 35,
   "metadata": {
    "scrolled": true
   },
   "outputs": [
    {
     "data": {
      "image/png": "[encoded data removed]",
      "text/plain": [
       "<Figure size 864x4320 with 7 Axes>"
      ]
     },
     "metadata": {
      "needs_background": "light"
     },
     "output_type": "display_data"
    }
   ],
   "source": [
    "plt.figure(figsize=(ncol,5*ncol))\n",
    "for i in range(1,len(collist)):\n",
    "    plt.subplot(nrows,ncol,i+1)\n",
    "    sns.boxplot(df[collist[i]],color='Green',orient='v')\n",
    "    plt.tight_layout()"
   ]
  },
  {
   "cell_type": "code",
   "execution_count": 36,
   "metadata": {},
   "outputs": [
    {
     "name": "stdout",
     "output_type": "stream",
     "text": [
      "column name : Team and skewness is :  -0.007367553143493494\n",
      "column name : Number and skewness is :  1.6683863572180007\n",
      "column name : Position and skewness is :  -0.01479507374509526\n",
      "column name : Age and skewness is :  0.6263487611614392\n",
      "column name : DOJ and skewness is :  0.1920224831837584\n",
      "column name : Weight and skewness is :  0.11378823248895656\n",
      "column name : College and skewness is :  0.2611263685649604\n",
      "column name : Salary and skewness is :  1.5955114443826113\n"
     ]
    }
   ],
   "source": [
    "for col in df.columns:\n",
    "    if df[col].dtype!=\"object\":\n",
    "        print(\"column name : \"+col+\" and skewness is : \",df[col].skew())\n",
    "        if df[col].skew() > 0.55:\n",
    "            df[col]=np.log1p(df[col])"
   ]
  },
  {
   "cell_type": "code",
   "execution_count": 37,
   "metadata": {},
   "outputs": [
    {
     "data": {
      "text/plain": [
       "Team       -0.007368\n",
       "Number     -0.638011\n",
       "Position   -0.014795\n",
       "Age         0.284946\n",
       "DOJ         0.192022\n",
       "Weight      0.113788\n",
       "College     0.261126\n",
       "Salary     -0.450091\n",
       "dtype: float64"
      ]
     },
     "execution_count": 37,
     "metadata": {},
     "output_type": "execute_result"
    }
   ],
   "source": [
    "df.skew()"
   ]
  },
  {
   "cell_type": "code",
   "execution_count": 38,
   "metadata": {},
   "outputs": [],
   "source": [
    "from scipy.stats import zscore\n",
    "z=np.abs(zscore(df))"
   ]
  },
  {
   "cell_type": "code",
   "execution_count": 39,
   "metadata": {},
   "outputs": [
    {
     "name": "stdout",
     "output_type": "stream",
     "text": [
      "(array([ 32, 130, 291, 405], dtype=int64), array([7, 7, 7, 5], dtype=int64))\n"
     ]
    }
   ],
   "source": [
    "print(np.where(z>3))"
   ]
  },
  {
   "cell_type": "code",
   "execution_count": 40,
   "metadata": {},
   "outputs": [
    {
     "data": {
      "text/plain": [
       "3.7254998252938503"
      ]
     },
     "execution_count": 40,
     "metadata": {},
     "output_type": "execute_result"
    }
   ],
   "source": [
    "z[32][7]"
   ]
  },
  {
   "cell_type": "code",
   "execution_count": 41,
   "metadata": {},
   "outputs": [
    {
     "name": "stdout",
     "output_type": "stream",
     "text": [
      "(453, 8)\n"
     ]
    },
    {
     "data": {
      "text/plain": [
       "Team        float64\n",
       "Number      float64\n",
       "Position    float64\n",
       "Age         float64\n",
       "DOJ         float64\n",
       "Weight      float64\n",
       "College     float64\n",
       "Salary      float64\n",
       "dtype: object"
      ]
     },
     "execution_count": 41,
     "metadata": {},
     "output_type": "execute_result"
    }
   ],
   "source": [
    "df_final=df[(z<3).all(axis=1)]\n",
    "print(df_final.shape)\n",
    "df_final.dtypes"
   ]
  },
  {
   "cell_type": "code",
   "execution_count": 42,
   "metadata": {
    "scrolled": true
   },
   "outputs": [
    {
     "data": {
      "text/html": [
       "<div>\n",
       "<style scoped>\n",
       "    .dataframe tbody tr th:only-of-type {\n",
       "        vertical-align: middle;\n",
       "    }\n",
       "\n",
       "    .dataframe tbody tr th {\n",
       "        vertical-align: top;\n",
       "    }\n",
       "\n",
       "    .dataframe thead th {\n",
       "        text-align: right;\n",
       "    }\n",
       "</style>\n",
       "<table border=\"1\" class=\"dataframe\">\n",
       "  <thead>\n",
       "    <tr style=\"text-align: right;\">\n",
       "      <th></th>\n",
       "      <th>Team</th>\n",
       "      <th>Number</th>\n",
       "      <th>Position</th>\n",
       "      <th>Age</th>\n",
       "      <th>DOJ</th>\n",
       "      <th>Weight</th>\n",
       "      <th>College</th>\n",
       "      <th>Salary</th>\n",
       "    </tr>\n",
       "  </thead>\n",
       "  <tbody>\n",
       "    <tr>\n",
       "      <th>0</th>\n",
       "      <td>1.0</td>\n",
       "      <td>0.000000</td>\n",
       "      <td>2.0</td>\n",
       "      <td>3.258097</td>\n",
       "      <td>4.0</td>\n",
       "      <td>180.0</td>\n",
       "      <td>93.0</td>\n",
       "      <td>15.860663</td>\n",
       "    </tr>\n",
       "    <tr>\n",
       "      <th>1</th>\n",
       "      <td>1.0</td>\n",
       "      <td>4.605170</td>\n",
       "      <td>3.0</td>\n",
       "      <td>3.258097</td>\n",
       "      <td>7.0</td>\n",
       "      <td>235.0</td>\n",
       "      <td>52.0</td>\n",
       "      <td>15.731862</td>\n",
       "    </tr>\n",
       "    <tr>\n",
       "      <th>2</th>\n",
       "      <td>1.0</td>\n",
       "      <td>3.433987</td>\n",
       "      <td>4.0</td>\n",
       "      <td>3.332205</td>\n",
       "      <td>9.0</td>\n",
       "      <td>205.0</td>\n",
       "      <td>8.0</td>\n",
       "      <td>15.392980</td>\n",
       "    </tr>\n",
       "    <tr>\n",
       "      <th>3</th>\n",
       "      <td>1.0</td>\n",
       "      <td>3.367296</td>\n",
       "      <td>4.0</td>\n",
       "      <td>3.135494</td>\n",
       "      <td>9.0</td>\n",
       "      <td>185.0</td>\n",
       "      <td>33.0</td>\n",
       "      <td>13.954090</td>\n",
       "    </tr>\n",
       "    <tr>\n",
       "      <th>4</th>\n",
       "      <td>1.0</td>\n",
       "      <td>2.197225</td>\n",
       "      <td>1.0</td>\n",
       "      <td>3.401197</td>\n",
       "      <td>11.0</td>\n",
       "      <td>231.0</td>\n",
       "      <td>45.0</td>\n",
       "      <td>15.424949</td>\n",
       "    </tr>\n",
       "  </tbody>\n",
       "</table>\n",
       "</div>"
      ],
      "text/plain": [
       "   Team    Number  Position       Age   DOJ  Weight  College     Salary\n",
       "0   1.0  0.000000       2.0  3.258097   4.0   180.0     93.0  15.860663\n",
       "1   1.0  4.605170       3.0  3.258097   7.0   235.0     52.0  15.731862\n",
       "2   1.0  3.433987       4.0  3.332205   9.0   205.0      8.0  15.392980\n",
       "3   1.0  3.367296       4.0  3.135494   9.0   185.0     33.0  13.954090\n",
       "4   1.0  2.197225       1.0  3.401197  11.0   231.0     45.0  15.424949"
      ]
     },
     "execution_count": 42,
     "metadata": {},
     "output_type": "execute_result"
    }
   ],
   "source": [
    "df_final.head()"
   ]
  },
  {
   "cell_type": "code",
   "execution_count": 43,
   "metadata": {},
   "outputs": [],
   "source": [
    "#Lets seprate input and output\n",
    "df_x=df_final.drop(columns=[\"Salary\"])\n",
    "y=df_final[[\"Salary\"]]"
   ]
  },
  {
   "cell_type": "code",
   "execution_count": 44,
   "metadata": {},
   "outputs": [],
   "source": [
    "#scaling down using standardscaler\n",
    "from sklearn.preprocessing import MinMaxScaler\n",
    "sc = MinMaxScaler()\n",
    "x = sc.fit_transform(df_x)\n"
   ]
  },
  {
   "cell_type": "code",
   "execution_count": 45,
   "metadata": {},
   "outputs": [],
   "source": [
    "from sklearn.model_selection import train_test_split\n",
    "from sklearn.metrics import mean_absolute_error\n",
    "from sklearn.metrics import mean_squared_error\n",
    "from sklearn.metrics import r2_score\n",
    "def maxr2_score(regr,x,y):\n",
    "    max_r_score=0\n",
    "    for r_state in range(42,100):\n",
    "        x_train, x_test, y_train, y_test = train_test_split(x, y,random_state = r_state,test_size=0.20)\n",
    "        regr.fit(x_train,y_train)\n",
    "        y_pred = regr.predict(x_test)\n",
    "        r2_scr=r2_score(y_test,y_pred)\n",
    "        print(\"r2 score corresponding to \",r_state,\" is \",r2_scr)\n",
    "        if r2_scr>max_r_score:\n",
    "            max_r_score=r2_scr\n",
    "            final_r_state=r_state\n",
    "    print(\"max r2 score corresponding to \",final_r_state,\" is \",max_r_score)\n",
    "    return final_r_state"
   ]
  },
  {
   "cell_type": "code",
   "execution_count": 46,
   "metadata": {},
   "outputs": [
    {
     "name": "stdout",
     "output_type": "stream",
     "text": [
      "r2 score corresponding to  42  is  -0.13330184356407826\n",
      "r2 score corresponding to  43  is  -0.0960968547639105\n",
      "r2 score corresponding to  44  is  -0.0805048524274341\n",
      "r2 score corresponding to  45  is  0.036378205997390944\n",
      "r2 score corresponding to  46  is  0.0677158230891387\n",
      "r2 score corresponding to  47  is  0.12327439478855984\n",
      "r2 score corresponding to  48  is  -0.0654647762260443\n",
      "r2 score corresponding to  49  is  -0.09349827098533514\n",
      "r2 score corresponding to  50  is  -0.11128159045884178\n",
      "r2 score corresponding to  51  is  0.06285805159457036\n",
      "r2 score corresponding to  52  is  0.10588693720055009\n",
      "r2 score corresponding to  53  is  -0.0022588043986124795\n",
      "r2 score corresponding to  54  is  0.06629147752080344\n",
      "r2 score corresponding to  55  is  0.027465899647908798\n",
      "r2 score corresponding to  56  is  -0.0016295893978142129\n",
      "r2 score corresponding to  57  is  0.05401229203205016\n",
      "r2 score corresponding to  58  is  0.05142226955076523\n",
      "r2 score corresponding to  59  is  0.038643339720707326\n",
      "r2 score corresponding to  60  is  0.0240651468699552\n",
      "r2 score corresponding to  61  is  0.0784912011198976\n",
      "r2 score corresponding to  62  is  0.10345403057681113\n",
      "r2 score corresponding to  63  is  0.024767828930584046\n",
      "r2 score corresponding to  64  is  -0.03493249952829269\n",
      "r2 score corresponding to  65  is  0.003192430939340851\n",
      "r2 score corresponding to  66  is  0.0172473531456373\n",
      "r2 score corresponding to  67  is  0.01866663254338463\n",
      "r2 score corresponding to  68  is  0.04339796613763214\n",
      "r2 score corresponding to  69  is  -0.012695253613143054\n",
      "r2 score corresponding to  70  is  0.01900763570632702\n",
      "r2 score corresponding to  71  is  0.02764672181273664\n",
      "r2 score corresponding to  72  is  0.0052176505432018905\n",
      "r2 score corresponding to  73  is  0.022457239874829393\n",
      "r2 score corresponding to  74  is  0.0482548334491979\n",
      "r2 score corresponding to  75  is  -0.1477538471822386\n",
      "r2 score corresponding to  76  is  0.03687453526642359\n",
      "r2 score corresponding to  77  is  0.012150541957438032\n",
      "r2 score corresponding to  78  is  0.022624250253982514\n",
      "r2 score corresponding to  79  is  0.023198671887472933\n",
      "r2 score corresponding to  80  is  -0.1279095270537971\n",
      "r2 score corresponding to  81  is  0.0959312807967847\n",
      "r2 score corresponding to  82  is  0.00795402620954655\n",
      "r2 score corresponding to  83  is  0.06038470298932974\n",
      "r2 score corresponding to  84  is  0.0282112097869065\n",
      "r2 score corresponding to  85  is  -0.17626342305196974\n",
      "r2 score corresponding to  86  is  0.036075394213091805\n",
      "r2 score corresponding to  87  is  0.04124953258677233\n",
      "r2 score corresponding to  88  is  0.037801338816215724\n",
      "r2 score corresponding to  89  is  0.05593942390444884\n",
      "r2 score corresponding to  90  is  -0.0007023641999523988\n",
      "r2 score corresponding to  91  is  0.03263473426661645\n",
      "r2 score corresponding to  92  is  0.06589947111662442\n",
      "r2 score corresponding to  93  is  0.014583572801760258\n",
      "r2 score corresponding to  94  is  -0.04511400150468825\n",
      "r2 score corresponding to  95  is  -0.015179774352038544\n",
      "r2 score corresponding to  96  is  0.0984879304653078\n",
      "r2 score corresponding to  97  is  -0.053886992410127954\n",
      "r2 score corresponding to  98  is  0.025213418345847338\n",
      "r2 score corresponding to  99  is  0.09945862055386445\n",
      "max r2 score corresponding to  47  is  0.12327439478855984\n"
     ]
    },
    {
     "data": {
      "text/plain": [
       "47"
      ]
     },
     "execution_count": 46,
     "metadata": {},
     "output_type": "execute_result"
    }
   ],
   "source": [
    "from sklearn.linear_model import LinearRegression\n",
    "lnrgr=LinearRegression()\n",
    "maxr2_score(lnrgr,x,y)"
   ]
  },
  {
   "cell_type": "code",
   "execution_count": 47,
   "metadata": {},
   "outputs": [
    {
     "name": "stdout",
     "output_type": "stream",
     "text": [
      "Mean r2 score for Linear Regression:  0.033661036921024824\n",
      "standard deviation in r2 score for Linear Regression:  0.03412289764663645\n"
     ]
    }
   ],
   "source": [
    "\n",
    "#Lets check the mean r2 score of both linear regression model\n",
    "from sklearn.model_selection import cross_val_score\n",
    "print(\"Mean r2 score for Linear Regression: \",cross_val_score(lnrgr,x,y,cv=5,scoring=\"r2\").mean())\n",
    "print(\"standard deviation in r2 score for Linear Regression: \",cross_val_score(lnrgr,x,y,cv=5,scoring=\"r2\").std())\n"
   ]
  },
  {
   "cell_type": "code",
   "execution_count": 48,
   "metadata": {},
   "outputs": [
    {
     "data": {
      "text/plain": [
       "{'n_neighbors': 39}"
      ]
     },
     "execution_count": 48,
     "metadata": {},
     "output_type": "execute_result"
    }
   ],
   "source": [
    "#lets use grid_search to find optimal value of n_neigbors for KNN model\n",
    "from sklearn.model_selection import GridSearchCV\n",
    "from sklearn.neighbors import KNeighborsRegressor\n",
    "neighbors={\"n_neighbors\":range(1,40)}\n",
    "knn=KNeighborsRegressor()\n",
    "grdknn=GridSearchCV(knn,neighbors,cv=10)\n",
    "grdknn.fit(x,y)\n",
    "grdknn.best_params_"
   ]
  },
  {
   "cell_type": "code",
   "execution_count": 49,
   "metadata": {},
   "outputs": [
    {
     "name": "stdout",
     "output_type": "stream",
     "text": [
      "r2 score corresponding to  42  is  -0.03595648185544231\n",
      "r2 score corresponding to  43  is  -0.04023079730570944\n",
      "r2 score corresponding to  44  is  -0.031341738724467216\n",
      "r2 score corresponding to  45  is  0.06886411586100671\n",
      "r2 score corresponding to  46  is  -0.019348120271768465\n",
      "r2 score corresponding to  47  is  0.11177429177930898\n",
      "r2 score corresponding to  48  is  -0.052636475010598094\n",
      "r2 score corresponding to  49  is  -0.1668530361944478\n",
      "r2 score corresponding to  50  is  -0.14851715387233777\n",
      "r2 score corresponding to  51  is  0.00221026952439185\n",
      "r2 score corresponding to  52  is  -0.009330755290472004\n",
      "r2 score corresponding to  53  is  0.03176891446503005\n",
      "r2 score corresponding to  54  is  0.06918516982145584\n",
      "r2 score corresponding to  55  is  -0.022721201704980043\n",
      "r2 score corresponding to  56  is  -0.05974810995914104\n",
      "r2 score corresponding to  57  is  -0.00888139082474071\n",
      "r2 score corresponding to  58  is  0.023349963491928416\n",
      "r2 score corresponding to  59  is  0.05715131833810361\n",
      "r2 score corresponding to  60  is  -0.050316917058275124\n",
      "r2 score corresponding to  61  is  0.04777696277390042\n",
      "r2 score corresponding to  62  is  0.11327150483339532\n",
      "r2 score corresponding to  63  is  -0.03758496506423792\n",
      "r2 score corresponding to  64  is  -0.014896739644480128\n",
      "r2 score corresponding to  65  is  0.014606833322500457\n",
      "r2 score corresponding to  66  is  0.016918746616713443\n",
      "r2 score corresponding to  67  is  0.03738325994280023\n",
      "r2 score corresponding to  68  is  0.05073121836693362\n",
      "r2 score corresponding to  69  is  0.008554080570468692\n",
      "r2 score corresponding to  70  is  0.05292531470781958\n",
      "r2 score corresponding to  71  is  0.015141383027455713\n",
      "r2 score corresponding to  72  is  -0.028280540634727958\n",
      "r2 score corresponding to  73  is  -0.005391775248529518\n",
      "r2 score corresponding to  74  is  -0.0021552942548084264\n",
      "r2 score corresponding to  75  is  -0.1585707706282622\n",
      "r2 score corresponding to  76  is  0.04228970384650921\n",
      "r2 score corresponding to  77  is  -0.043510945031216774\n",
      "r2 score corresponding to  78  is  0.025811957614575\n",
      "r2 score corresponding to  79  is  -0.011556614688517763\n",
      "r2 score corresponding to  80  is  -0.16288043064562707\n",
      "r2 score corresponding to  81  is  0.09939365971787173\n",
      "r2 score corresponding to  82  is  0.023461488747288928\n",
      "r2 score corresponding to  83  is  0.060679604545006205\n",
      "r2 score corresponding to  84  is  0.024690601229495623\n",
      "r2 score corresponding to  85  is  -0.08741123976423437\n",
      "r2 score corresponding to  86  is  0.0020738568146826397\n",
      "r2 score corresponding to  87  is  0.06455568281945268\n",
      "r2 score corresponding to  88  is  0.05820990121876557\n",
      "r2 score corresponding to  89  is  0.029343298825786457\n",
      "r2 score corresponding to  90  is  0.0038219590827959227\n",
      "r2 score corresponding to  91  is  0.014176951665754611\n",
      "r2 score corresponding to  92  is  0.09914400503203191\n",
      "r2 score corresponding to  93  is  -0.005029752372696761\n",
      "r2 score corresponding to  94  is  0.00802263625190125\n",
      "r2 score corresponding to  95  is  -0.04682751869410984\n",
      "r2 score corresponding to  96  is  0.07125422980517382\n",
      "r2 score corresponding to  97  is  -0.007511739336862222\n",
      "r2 score corresponding to  98  is  -0.021074800402957505\n",
      "r2 score corresponding to  99  is  0.08001931789181405\n",
      "max r2 score corresponding to  62  is  0.11327150483339532\n"
     ]
    },
    {
     "data": {
      "text/plain": [
       "62"
      ]
     },
     "execution_count": 49,
     "metadata": {},
     "output_type": "execute_result"
    }
   ],
   "source": [
    "knn=KNeighborsRegressor(n_neighbors=25)\n",
    "maxr2_score(knn,x,y)"
   ]
  },
  {
   "cell_type": "code",
   "execution_count": 50,
   "metadata": {},
   "outputs": [
    {
     "name": "stdout",
     "output_type": "stream",
     "text": [
      "Mean r2 score for KNN Regression:  0.021730621829581565\n",
      "standard deviation in r2 score for KNN Regression:  0.03307559542188412\n"
     ]
    }
   ],
   "source": [
    "\n",
    "#Lets check the mean r2 score of both linear knn regression\n",
    "from sklearn.model_selection import cross_val_score\n",
    "print(\"Mean r2 score for KNN Regression: \",cross_val_score(knn,x,y,cv=5,scoring=\"r2\").mean())\n",
    "print(\"standard deviation in r2 score for KNN Regression: \",cross_val_score(knn,x,y,cv=5,scoring=\"r2\").std())"
   ]
  },
  {
   "cell_type": "code",
   "execution_count": 51,
   "metadata": {},
   "outputs": [
    {
     "data": {
      "text/plain": [
       "{'alpha': 0.01}"
      ]
     },
     "execution_count": 51,
     "metadata": {},
     "output_type": "execute_result"
    }
   ],
   "source": [
    "from sklearn.linear_model import Lasso\n",
    "lsr=Lasso()\n",
    "parameters={\"alpha\":[0.001,0.01,0.1,1]}\n",
    "clf = GridSearchCV(lsr, parameters, cv=10)\n",
    "clf.fit(x,y)\n",
    "clf.best_params_"
   ]
  },
  {
   "cell_type": "code",
   "execution_count": 52,
   "metadata": {},
   "outputs": [
    {
     "name": "stdout",
     "output_type": "stream",
     "text": [
      "r2 score corresponding to  42  is  -0.0776278315665544\n",
      "r2 score corresponding to  43  is  -0.02188561389155086\n",
      "r2 score corresponding to  44  is  -0.031849660862443896\n",
      "r2 score corresponding to  45  is  0.03377597130698906\n",
      "r2 score corresponding to  46  is  0.05179304494774417\n",
      "r2 score corresponding to  47  is  0.11013441752442454\n",
      "r2 score corresponding to  48  is  -0.02931910858639264\n",
      "r2 score corresponding to  49  is  -0.06768317428808213\n",
      "r2 score corresponding to  50  is  -0.08975717364703795\n",
      "r2 score corresponding to  51  is  0.057319084928718955\n",
      "r2 score corresponding to  52  is  0.07117884353129644\n",
      "r2 score corresponding to  53  is  0.022906269355273956\n",
      "r2 score corresponding to  54  is  0.050594601568261566\n",
      "r2 score corresponding to  55  is  0.04358017528008684\n",
      "r2 score corresponding to  56  is  0.0060875713455085245\n",
      "r2 score corresponding to  57  is  0.048587466224876086\n",
      "r2 score corresponding to  58  is  0.06030118963292985\n",
      "r2 score corresponding to  59  is  0.055872223655870634\n",
      "r2 score corresponding to  60  is  0.022104672395181324\n",
      "r2 score corresponding to  61  is  0.06278500601343939\n",
      "r2 score corresponding to  62  is  0.08129264292127392\n",
      "r2 score corresponding to  63  is  0.018643150393618746\n",
      "r2 score corresponding to  64  is  -0.008881212389833415\n",
      "r2 score corresponding to  65  is  0.024645162604589155\n",
      "r2 score corresponding to  66  is  0.031149933210641745\n",
      "r2 score corresponding to  67  is  0.027142474543475292\n",
      "r2 score corresponding to  68  is  0.042716130631282656\n",
      "r2 score corresponding to  69  is  0.022607730164343698\n",
      "r2 score corresponding to  70  is  0.04537346170248113\n",
      "r2 score corresponding to  71  is  0.03427545258230591\n",
      "r2 score corresponding to  72  is  0.0073415674039184475\n",
      "r2 score corresponding to  73  is  0.014753894455989514\n",
      "r2 score corresponding to  74  is  0.029549623688639337\n",
      "r2 score corresponding to  75  is  -0.08500385331840077\n",
      "r2 score corresponding to  76  is  0.05192094291184046\n",
      "r2 score corresponding to  77  is  0.026339421818470043\n",
      "r2 score corresponding to  78  is  0.05118380054154059\n",
      "r2 score corresponding to  79  is  0.022177657283401375\n",
      "r2 score corresponding to  80  is  -0.06166160283099953\n",
      "r2 score corresponding to  81  is  0.06812792044975036\n",
      "r2 score corresponding to  82  is  0.018353025488841657\n",
      "r2 score corresponding to  83  is  0.044813555398841465\n",
      "r2 score corresponding to  84  is  0.04181208070982745\n",
      "r2 score corresponding to  85  is  -0.11330322276224702\n",
      "r2 score corresponding to  86  is  0.031739611943348844\n",
      "r2 score corresponding to  87  is  0.0452903779581697\n",
      "r2 score corresponding to  88  is  0.04926326791429014\n",
      "r2 score corresponding to  89  is  0.04102104392273154\n",
      "r2 score corresponding to  90  is  0.0347683757966154\n",
      "r2 score corresponding to  91  is  0.01964652148383872\n",
      "r2 score corresponding to  92  is  0.06137368100485496\n",
      "r2 score corresponding to  93  is  0.024259192792818518\n",
      "r2 score corresponding to  94  is  0.005319672548245169\n",
      "r2 score corresponding to  95  is  0.011224389594430617\n",
      "r2 score corresponding to  96  is  0.09256370695748373\n",
      "r2 score corresponding to  97  is  -0.037005319914153345\n",
      "r2 score corresponding to  98  is  0.022281643709359034\n",
      "r2 score corresponding to  99  is  0.0812369024006585\n",
      "max r2 score corresponding to  47  is  0.11013441752442454\n"
     ]
    }
   ],
   "source": [
    "las=Lasso(alpha=0.01)\n",
    "r_state=maxr2_score(las,x,y)"
   ]
  },
  {
   "cell_type": "code",
   "execution_count": 53,
   "metadata": {},
   "outputs": [
    {
     "data": {
      "text/plain": [
       "{'learning_rate': 0.1, 'n_estimators': 10}"
      ]
     },
     "execution_count": 53,
     "metadata": {},
     "output_type": "execute_result"
    }
   ],
   "source": [
    "from sklearn.ensemble import GradientBoostingRegressor\n",
    "\n",
    "parameters={\"learning_rate\":[0.0001,0.001,0.01,0.1,1],\"n_estimators\":[10,50,150,200,250,300,350,400,450,500,550,600,650,700,750,800,850,900,950,1000]}\n",
    "grd=GradientBoostingRegressor()\n",
    "grdb=GridSearchCV(grd,parameters,cv=10)\n",
    "grdb.fit(x,y)\n",
    "grdb.best_params_"
   ]
  },
  {
   "cell_type": "code",
   "execution_count": 54,
   "metadata": {},
   "outputs": [
    {
     "name": "stdout",
     "output_type": "stream",
     "text": [
      "r2 score corresponding to  42  is  -0.05189868058875824\n",
      "r2 score corresponding to  43  is  -0.20003125948482547\n",
      "r2 score corresponding to  44  is  0.01856283651575441\n",
      "r2 score corresponding to  45  is  0.04644444557009575\n",
      "r2 score corresponding to  46  is  0.04761136424546797\n",
      "r2 score corresponding to  47  is  0.021347395782770895\n",
      "r2 score corresponding to  48  is  0.009749896746863884\n",
      "r2 score corresponding to  49  is  -0.029375250919215112\n",
      "r2 score corresponding to  50  is  -0.055852286929611195\n",
      "r2 score corresponding to  51  is  0.0440947546690319\n",
      "r2 score corresponding to  52  is  -0.06295870945808191\n",
      "r2 score corresponding to  53  is  0.06427585847545525\n",
      "r2 score corresponding to  54  is  0.06751325664073382\n",
      "r2 score corresponding to  55  is  0.029492256722315924\n",
      "r2 score corresponding to  56  is  0.039416618241963186\n",
      "r2 score corresponding to  57  is  -0.06185272689054755\n",
      "r2 score corresponding to  58  is  0.05578217502265237\n",
      "r2 score corresponding to  59  is  0.08581165827115722\n",
      "r2 score corresponding to  60  is  -0.02853705891090086\n",
      "r2 score corresponding to  61  is  0.11945687226957591\n",
      "r2 score corresponding to  62  is  0.07345300101008767\n",
      "r2 score corresponding to  63  is  0.0033651971945137804\n",
      "r2 score corresponding to  64  is  -0.030147541470010975\n",
      "r2 score corresponding to  65  is  0.040111881779503866\n",
      "r2 score corresponding to  66  is  -0.021956799320010933\n",
      "r2 score corresponding to  67  is  -0.024245322749358644\n",
      "r2 score corresponding to  68  is  0.0568909128370807\n",
      "r2 score corresponding to  69  is  0.00254610305179781\n",
      "r2 score corresponding to  70  is  0.019080402227981907\n",
      "r2 score corresponding to  71  is  0.06572778798074674\n",
      "r2 score corresponding to  72  is  0.07804669944138043\n",
      "r2 score corresponding to  73  is  0.039679950406311115\n",
      "r2 score corresponding to  74  is  -0.0213671274175542\n",
      "r2 score corresponding to  75  is  -0.05552357448363243\n",
      "r2 score corresponding to  76  is  0.06698816847023625\n",
      "r2 score corresponding to  77  is  -0.004054636406518375\n",
      "r2 score corresponding to  78  is  0.048864865496737964\n",
      "r2 score corresponding to  79  is  0.046592462418517\n",
      "r2 score corresponding to  80  is  -0.03181355927300955\n",
      "r2 score corresponding to  81  is  0.0938010805434577\n",
      "r2 score corresponding to  82  is  0.05604741760004062\n",
      "r2 score corresponding to  83  is  0.07098651967126446\n",
      "r2 score corresponding to  84  is  0.030203293686217214\n",
      "r2 score corresponding to  85  is  -0.07499585562229116\n",
      "r2 score corresponding to  86  is  -0.03412122588208044\n",
      "r2 score corresponding to  87  is  0.037180530664931655\n",
      "r2 score corresponding to  88  is  0.08791063578998415\n",
      "r2 score corresponding to  89  is  0.021360101280759713\n",
      "r2 score corresponding to  90  is  -0.026721244930633548\n",
      "r2 score corresponding to  91  is  0.0338238365810235\n",
      "r2 score corresponding to  92  is  0.07724211871495856\n",
      "r2 score corresponding to  93  is  0.016452019109662985\n",
      "r2 score corresponding to  94  is  0.05326855644914352\n",
      "r2 score corresponding to  95  is  0.03163107471336901\n",
      "r2 score corresponding to  96  is  0.05272607757753145\n",
      "r2 score corresponding to  97  is  0.022868691859392998\n",
      "r2 score corresponding to  98  is  0.08379493262286652\n",
      "r2 score corresponding to  99  is  0.08342343095174387\n",
      "max r2 score corresponding to  61  is  0.11945687226957591\n"
     ]
    },
    {
     "data": {
      "text/plain": [
       "61"
      ]
     },
     "execution_count": 54,
     "metadata": {},
     "output_type": "execute_result"
    }
   ],
   "source": [
    "grd=GradientBoostingRegressor(learning_rate=0.001,n_estimators=1000)\n",
    "maxr2_score(grd,x,y)"
   ]
  },
  {
   "cell_type": "code",
   "execution_count": 56,
   "metadata": {},
   "outputs": [
    {
     "name": "stdout",
     "output_type": "stream",
     "text": [
      "r2 score corresponding to  42  is  -0.1583168999403013\n",
      "r2 score corresponding to  43  is  -0.0747116451598222\n",
      "r2 score corresponding to  44  is  -0.05658930400653173\n",
      "r2 score corresponding to  45  is  0.02579642804672788\n",
      "r2 score corresponding to  46  is  0.08079013056207618\n",
      "r2 score corresponding to  47  is  0.12568498662424277\n",
      "r2 score corresponding to  48  is  -0.04025794233570079\n",
      "r2 score corresponding to  49  is  -0.0921466676874092\n",
      "r2 score corresponding to  50  is  -0.10063568704075165\n",
      "r2 score corresponding to  51  is  0.047457957391644934\n",
      "r2 score corresponding to  52  is  0.07798698159266926\n",
      "r2 score corresponding to  53  is  0.02716161961540764\n",
      "r2 score corresponding to  54  is  0.0741526649172648\n",
      "r2 score corresponding to  55  is  0.0025676735500795855\n",
      "r2 score corresponding to  56  is  -0.0027360650462606717\n",
      "r2 score corresponding to  57  is  0.04466376940093253\n",
      "r2 score corresponding to  58  is  0.04486453421755865\n",
      "r2 score corresponding to  59  is  0.029320913620156208\n",
      "r2 score corresponding to  60  is  0.03217626871945545\n",
      "r2 score corresponding to  61  is  0.07608851900201752\n",
      "r2 score corresponding to  62  is  0.10058917104399889\n",
      "r2 score corresponding to  63  is  -0.003203132689828969\n",
      "r2 score corresponding to  64  is  -0.028855874300693918\n",
      "r2 score corresponding to  65  is  -0.020111736081165565\n",
      "r2 score corresponding to  66  is  0.02352314767299224\n",
      "r2 score corresponding to  67  is  0.03155578501040579\n",
      "r2 score corresponding to  68  is  0.04142040122252655\n",
      "r2 score corresponding to  69  is  -0.026247624497828692\n",
      "r2 score corresponding to  70  is  0.03563112772319599\n",
      "r2 score corresponding to  71  is  0.011162648778872408\n",
      "r2 score corresponding to  72  is  -0.01721057129104442\n",
      "r2 score corresponding to  73  is  0.01762152415307372\n",
      "r2 score corresponding to  74  is  0.06075791976604206\n",
      "r2 score corresponding to  75  is  -0.1810884593170612\n",
      "r2 score corresponding to  76  is  0.027904216070284815\n",
      "r2 score corresponding to  77  is  0.02766334572133533\n",
      "r2 score corresponding to  78  is  0.03283561455726247\n",
      "r2 score corresponding to  79  is  0.031615165107467535\n",
      "r2 score corresponding to  80  is  -0.16637992942606372\n",
      "r2 score corresponding to  81  is  0.11030706433286064\n",
      "r2 score corresponding to  82  is  -0.0007681250261850625\n",
      "r2 score corresponding to  83  is  0.05144444168354345\n",
      "r2 score corresponding to  84  is  0.023525710003131417\n",
      "r2 score corresponding to  85  is  -0.18685573639041775\n",
      "r2 score corresponding to  86  is  0.03283604445358401\n",
      "r2 score corresponding to  87  is  0.05192420547538368\n",
      "r2 score corresponding to  88  is  0.046703468296530604\n",
      "r2 score corresponding to  89  is  0.04620253973021127\n",
      "r2 score corresponding to  90  is  -0.020210247690589656\n",
      "r2 score corresponding to  91  is  0.04338500820394564\n",
      "r2 score corresponding to  92  is  0.04917900887667892\n",
      "r2 score corresponding to  93  is  0.02198334888799547\n",
      "r2 score corresponding to  94  is  -0.03597713174738382\n",
      "r2 score corresponding to  95  is  -0.014185961837609007\n",
      "r2 score corresponding to  96  is  0.09023955403181316\n",
      "r2 score corresponding to  97  is  -0.085599747046611\n",
      "r2 score corresponding to  98  is  0.0005906531003007087\n",
      "r2 score corresponding to  99  is  0.10500582904514533\n",
      "max r2 score corresponding to  47  is  0.12568498662424277\n"
     ]
    },
    {
     "data": {
      "text/plain": [
       "47"
      ]
     },
     "execution_count": 56,
     "metadata": {},
     "output_type": "execute_result"
    }
   ],
   "source": [
    "from sklearn.ensemble import AdaBoostRegressor\n",
    "adag=AdaBoostRegressor(base_estimator=LinearRegression(),learning_rate=0.001,n_estimators=10)\n",
    "maxr2_score(adag,x,y)"
   ]
  },
  {
   "cell_type": "code",
   "execution_count": 59,
   "metadata": {},
   "outputs": [
    {
     "name": "stdout",
     "output_type": "stream",
     "text": [
      "r2 score corresponding to  42  is  -0.25125949214802845\n",
      "r2 score corresponding to  43  is  -0.846203464119119\n",
      "r2 score corresponding to  44  is  -0.18776437752553443\n",
      "r2 score corresponding to  45  is  0.1276199396869253\n",
      "r2 score corresponding to  46  is  -0.3004045986915589\n",
      "r2 score corresponding to  47  is  -0.07733207475522974\n",
      "r2 score corresponding to  48  is  -0.20349356840783916\n",
      "r2 score corresponding to  49  is  -0.2559593301847314\n",
      "r2 score corresponding to  50  is  -0.32526627062944313\n",
      "r2 score corresponding to  51  is  -0.09094750078998382\n",
      "r2 score corresponding to  52  is  -0.07947139995487107\n",
      "r2 score corresponding to  53  is  -0.03695281725782351\n",
      "r2 score corresponding to  54  is  0.012564037233652736\n",
      "r2 score corresponding to  55  is  -0.15678355482958195\n",
      "r2 score corresponding to  56  is  -0.04615397610095773\n",
      "r2 score corresponding to  57  is  -0.2394104034207989\n",
      "r2 score corresponding to  58  is  -0.0863280441132479\n",
      "r2 score corresponding to  59  is  -0.12811840073163716\n",
      "r2 score corresponding to  60  is  -0.05298518381868478\n",
      "r2 score corresponding to  61  is  -0.1645266475509577\n",
      "r2 score corresponding to  62  is  -0.14953420445104748\n",
      "r2 score corresponding to  63  is  -0.10400145353567525\n",
      "r2 score corresponding to  64  is  -0.2538852170150401\n",
      "r2 score corresponding to  65  is  -0.24707367958208115\n",
      "r2 score corresponding to  66  is  -0.18713817379125985\n",
      "r2 score corresponding to  67  is  -0.26986959938375055\n",
      "r2 score corresponding to  68  is  -0.06565609752624924\n",
      "r2 score corresponding to  69  is  -0.2867638799317582\n",
      "r2 score corresponding to  70  is  -0.21828106591552854\n",
      "r2 score corresponding to  71  is  0.03984595735394525\n",
      "r2 score corresponding to  72  is  -0.07095658021275564\n",
      "r2 score corresponding to  73  is  -0.001966171517465254\n",
      "r2 score corresponding to  74  is  -0.1405378835632276\n",
      "r2 score corresponding to  75  is  -0.5347261045695715\n",
      "r2 score corresponding to  76  is  -0.06004236952698738\n",
      "r2 score corresponding to  77  is  -0.26405130753573314\n",
      "r2 score corresponding to  78  is  -0.20272247722850123\n",
      "r2 score corresponding to  79  is  -0.04100779700343815\n",
      "r2 score corresponding to  80  is  -0.16102852074077423\n",
      "r2 score corresponding to  81  is  0.026730781971444517\n",
      "r2 score corresponding to  82  is  -0.07661260456495023\n",
      "r2 score corresponding to  83  is  -0.07536558598287946\n",
      "r2 score corresponding to  84  is  -0.05354229578797276\n",
      "r2 score corresponding to  85  is  -0.25134918216308044\n",
      "r2 score corresponding to  86  is  -0.2361081068516253\n",
      "r2 score corresponding to  87  is  -0.18464283006804472\n",
      "r2 score corresponding to  88  is  0.10765399108346407\n",
      "r2 score corresponding to  89  is  -0.042935923298773604\n",
      "r2 score corresponding to  90  is  -0.06007618703152806\n",
      "r2 score corresponding to  91  is  -0.24433162578010692\n",
      "r2 score corresponding to  92  is  -0.08510343533179276\n",
      "r2 score corresponding to  93  is  -0.08073343001015498\n",
      "r2 score corresponding to  94  is  -0.14747761688251604\n",
      "r2 score corresponding to  95  is  -0.10113535184784239\n",
      "r2 score corresponding to  96  is  0.08509374739147757\n",
      "r2 score corresponding to  97  is  -0.04179643656053944\n",
      "r2 score corresponding to  98  is  -0.11118121506564349\n",
      "r2 score corresponding to  99  is  0.06093976497811593\n",
      "max r2 score corresponding to  45  is  0.1276199396869253\n"
     ]
    },
    {
     "data": {
      "text/plain": [
       "45"
      ]
     },
     "execution_count": 59,
     "metadata": {},
     "output_type": "execute_result"
    }
   ],
   "source": [
    "from sklearn.ensemble import BaggingRegressor\n",
    "bg=BaggingRegressor()\n",
    "maxr2_score(bg,x,y)\n"
   ]
  },
  {
   "cell_type": "code",
   "execution_count": null,
   "metadata": {},
   "outputs": [],
   "source": []
  }
 ],
 "metadata": {
  "kernelspec": {
   "display_name": "Python 3",
   "language": "python",
   "name": "python3"
  },
  "language_info": {
   "codemirror_mode": {
    "name": "ipython",
    "version": 3
   },
   "file_extension": ".py",
   "mimetype": "text/x-python",
   "name": "python",
   "nbconvert_exporter": "python",
   "pygments_lexer": "ipython3",
   "version": "3.8.3"
  }
 },
 "nbformat": 4,
 "nbformat_minor": 4
}
